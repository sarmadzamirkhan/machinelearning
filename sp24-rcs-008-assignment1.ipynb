{
 "cells": [
  {
   "cell_type": "code",
   "execution_count": 35,
   "metadata": {},
   "outputs": [
    {
     "name": "stdout",
     "output_type": "stream",
     "text": [
      "27\n",
      "125\n",
      "343\n",
      "512\n",
      "1728\n"
     ]
    }
   ],
   "source": [
    "''' \n",
    "Assignment:1 \n",
    "Task No. 1'''\n",
    "\n",
    "list = [3, 5, 7, 8, 12]\n",
    "cubelist = []\n",
    "\n",
    "for i in list:\n",
    "    val = i*i*i\n",
    "    cubelist.append(val)\n",
    "    \n",
    "for j in cubelist:\n",
    "    print(j)"
   ]
  },
  {
   "cell_type": "code",
   "execution_count": 36,
   "metadata": {},
   "outputs": [
    {
     "name": "stdout",
     "output_type": "stream",
     "text": [
      "{'parrot': 2, 'goat': 4, 'spider': 8, 'crab': 10}\n"
     ]
    }
   ],
   "source": [
    "'''\n",
    "1.2 \n",
    "'''             \n",
    "dict = {}\n",
    "dict.update({\n",
    "    \"parrot\" : 2,\n",
    "    \"goat\" : 4,\n",
    "    \"spider\" : 8,\n",
    "    \"crab\" : 10\n",
    "})\n",
    "print(dict)"
   ]
  },
  {
   "cell_type": "code",
   "execution_count": 37,
   "metadata": {},
   "outputs": [
    {
     "name": "stdout",
     "output_type": "stream",
     "text": [
      "24\n"
     ]
    }
   ],
   "source": [
    "'''\n",
    "1.3. \n",
    "'''\n",
    "dict = {\n",
    "    \"parrot\" : 2,\n",
    "    \"goat\" : 4,\n",
    "    \"spider\" : 8,\n",
    "    \"crab\" : 10\n",
    "}\n",
    "\n",
    "val = dict.values()\n",
    "sum = 0\n",
    "for i in val:\n",
    "    sum = sum + i\n",
    "print(sum)"
   ]
  },
  {
   "cell_type": "code",
   "execution_count": 38,
   "metadata": {},
   "outputs": [
    {
     "name": "stdout",
     "output_type": "stream",
     "text": [
      "(3, 9, 4, [8, 6])\n"
     ]
    }
   ],
   "source": [
    "#1.4.\n",
    "A = (3, 9, 4, [5, 6])\n",
    "A[3][0] = 8 \n",
    "print(A)"
   ]
  },
  {
   "cell_type": "code",
   "execution_count": null,
   "metadata": {},
   "outputs": [],
   "source": [
    "#1.5.\n",
    "A = (3, 9, 4, [8, 6])\n",
    "del A"
   ]
  },
  {
   "cell_type": "code",
   "execution_count": 39,
   "metadata": {},
   "outputs": [
    {
     "name": "stdout",
     "output_type": "stream",
     "text": [
      "2\n"
     ]
    }
   ],
   "source": [
    "#1.6\n",
    "B = ('a', 'p', 'p', 'l', 'e')\n",
    "count = 0\n",
    "for i in B:\n",
    "    if(i == 'p'):\n",
    "        count = count + 1\n",
    "print(count) "
   ]
  },
  {
   "cell_type": "code",
   "execution_count": 40,
   "metadata": {},
   "outputs": [
    {
     "name": "stdout",
     "output_type": "stream",
     "text": [
      "3\n"
     ]
    }
   ],
   "source": [
    "#1.7\n",
    "B = ('a', 'p', 'p', 'l', 'e')\n",
    "\n",
    "lindex = B.index('l')\n",
    "print(lindex)"
   ]
  },
  {
   "cell_type": "code",
   "execution_count": 24,
   "metadata": {},
   "outputs": [],
   "source": [
    "#Task No.2\n",
    "import numpy as np"
   ]
  },
  {
   "cell_type": "code",
   "execution_count": 25,
   "metadata": {},
   "outputs": [],
   "source": [
    "#2.1\n",
    "A = np.array([[1, 2, 3, 4],\n",
    "              [5, 6, 7, 8],\n",
    "              [9, 10, 11, 12]])"
   ]
  },
  {
   "cell_type": "code",
   "execution_count": 26,
   "metadata": {},
   "outputs": [
    {
     "name": "stdout",
     "output_type": "stream",
     "text": [
      "[[1 2]\n",
      " [5 6]]\n"
     ]
    }
   ],
   "source": [
    "#2.2 \n",
    "b = A[:2, :2]\n",
    "print(b)"
   ]
  },
  {
   "cell_type": "code",
   "execution_count": 27,
   "metadata": {},
   "outputs": [
    {
     "name": "stdout",
     "output_type": "stream",
     "text": [
      "[[      2309078893416                  64                   0\n",
      "                    0]\n",
      " [  28429415029407744 7233683933424083255 3546922490233499699\n",
      "  3919083175119171686]\n",
      " [4062919998563236197 3688841927835608629 7234527251007627576\n",
      "  7365467192292357428]]\n"
     ]
    }
   ],
   "source": [
    "#2.3 \n",
    "C = np.empty_like(A)\n",
    "print(C)"
   ]
  },
  {
   "cell_type": "code",
   "execution_count": 28,
   "metadata": {},
   "outputs": [
    {
     "name": "stdout",
     "output_type": "stream",
     "text": [
      "[[ 2  3  4  5]\n",
      " [ 5  6  7  8]\n",
      " [10 11 12 13]]\n"
     ]
    }
   ],
   "source": [
    "#2.4 \n",
    "z = np.array([1, 0, 1])\n",
    "for i in range(A.shape[1]):\n",
    "    C[:, i] = A[:, i] + z\n",
    "print(C)"
   ]
  },
  {
   "cell_type": "code",
   "execution_count": 29,
   "metadata": {},
   "outputs": [
    {
     "name": "stdout",
     "output_type": "stream",
     "text": [
      "[[ 6  8]\n",
      " [10 12]]\n"
     ]
    }
   ],
   "source": [
    "#2.5 \n",
    "X = np.array([[1, 2], [3, 4]])\n",
    "Y = np.array([[5, 6], [7, 8]])\n",
    "sum = X + Y\n",
    "print(sum)"
   ]
  },
  {
   "cell_type": "code",
   "execution_count": 30,
   "metadata": {},
   "outputs": [
    {
     "name": "stdout",
     "output_type": "stream",
     "text": [
      "[[ 5 12]\n",
      " [21 32]]\n"
     ]
    }
   ],
   "source": [
    "#2.6 \n",
    "product = X * Y\n",
    "print(product)"
   ]
  },
  {
   "cell_type": "code",
   "execution_count": 31,
   "metadata": {},
   "outputs": [
    {
     "name": "stdout",
     "output_type": "stream",
     "text": [
      "[[2.23606798 2.44948974]\n",
      " [2.64575131 2.82842712]]\n"
     ]
    }
   ],
   "source": [
    "#2.7 \n",
    "sqt = np.sqrt(Y)\n",
    "print(sqt)"
   ]
  },
  {
   "cell_type": "code",
   "execution_count": 33,
   "metadata": {},
   "outputs": [
    {
     "name": "stdout",
     "output_type": "stream",
     "text": [
      "[29 67]\n"
     ]
    }
   ],
   "source": [
    "#2.8 \n",
    "v = np.array([9, 10])\n",
    "dotproduct = np.dot(X, v)\n",
    "print(dotproduct)\n"
   ]
  },
  {
   "cell_type": "code",
   "execution_count": 34,
   "metadata": {},
   "outputs": [
    {
     "name": "stdout",
     "output_type": "stream",
     "text": [
      "[4 6]\n"
     ]
    }
   ],
   "source": [
    "#2.9 \n",
    "sumcolx = np.sum(X, axis=0)\n",
    "print(sumcolx)"
   ]
  },
  {
   "cell_type": "code",
   "execution_count": 20,
   "metadata": {},
   "outputs": [
    {
     "name": "stdout",
     "output_type": "stream",
     "text": [
      "10.0\n"
     ]
    }
   ],
   "source": [
    "'''\n",
    "Task No.3\n",
    "3.1\n",
    "'''\n",
    "def Compute(inputdistance, inputtime):\n",
    "    velocity = inputdistance / inputtime\n",
    "    return velocity\n",
    "print(Compute(100,10))\n"
   ]
  },
  {
   "cell_type": "code",
   "execution_count": 23,
   "metadata": {},
   "outputs": [
    {
     "name": "stdout",
     "output_type": "stream",
     "text": [
      "Product Of Even Numbers In Array: 46080\n"
     ]
    }
   ],
   "source": [
    "#3.2 \n",
    "def mult(even_num):\n",
    "    productlist = 1 \n",
    "    for i in even_num:\n",
    "        if(i == 0):\n",
    "            i = i + 1\n",
    "        productlist = productlist * i\n",
    "    print(f\"Product Of Even Numbers In Array: {productlist}\")   \n",
    "    \n",
    "even_num = [0, 2, 4, 6, 8, 10, 12]\n",
    "mult(even_num)"
   ]
  },
  {
   "cell_type": "code",
   "execution_count": null,
   "metadata": {},
   "outputs": [],
   "source": [
    "'''\n",
    "Task No. 4\n",
    "'''\n",
    "import pandas as pd\n",
    "\n",
    "data = {\n",
    "    'C1' : [1, 2, 3, 5, 5],\n",
    "    'C2' : [6, 7, 5, 4, 8],\n",
    "    'C3' : [7, 9, 8, 6, 5],\n",
    "    'C4' : [7, 5, 2, 8, 8],\n",
    "}"
   ]
  },
  {
   "cell_type": "code",
   "execution_count": 6,
   "metadata": {},
   "outputs": [
    {
     "name": "stdout",
     "output_type": "stream",
     "text": [
      "   C1  C2  C3  C4\n",
      "0   1   6   7   7\n",
      "1   2   7   9   5\n",
      "2   3   5   8   2\n",
      "3   5   4   6   8\n",
      "4   5   8   5   8\n"
     ]
    }
   ],
   "source": [
    "#4.1\n",
    "df = pd.DataFrame(data)\n",
    "print(df)"
   ]
  },
  {
   "cell_type": "code",
   "execution_count": 5,
   "metadata": {},
   "outputs": [
    {
     "name": "stdout",
     "output_type": "stream",
     "text": [
      "0    6\n",
      "1    7\n",
      "2    5\n",
      "3    4\n",
      "4    8\n",
      "Name: C2, dtype: int64\n"
     ]
    }
   ],
   "source": [
    "#4.2\n",
    "print(df['C2'])"
   ]
  },
  {
   "cell_type": "code",
   "execution_count": 7,
   "metadata": {},
   "outputs": [
    {
     "name": "stdout",
     "output_type": "stream",
     "text": [
      "   C1  C2  B3  C4\n",
      "0   1   6   7   7\n",
      "1   2   7   9   5\n",
      "2   3   5   8   2\n",
      "3   5   4   6   8\n",
      "4   5   8   5   8\n"
     ]
    }
   ],
   "source": [
    "#4.3\n",
    "df.rename(columns={'C3': 'B3'}, inplace=True)\n",
    "print(df)"
   ]
  },
  {
   "cell_type": "code",
   "execution_count": 9,
   "metadata": {},
   "outputs": [
    {
     "name": "stdout",
     "output_type": "stream",
     "text": [
      "   C1  C2  B3  C4  Sum\n",
      "0   1   6   7   7   21\n",
      "1   2   7   9   5   23\n",
      "2   3   5   8   2   18\n",
      "3   5   4   6   8   23\n",
      "4   5   8   5   8   26\n"
     ]
    }
   ],
   "source": [
    "#4.4 \n",
    "df['Sum'] = df.sum(axis=1)\n",
    "print(df)"
   ]
  },
  {
   "cell_type": "code",
   "execution_count": 10,
   "metadata": {},
   "outputs": [
    {
     "name": "stdout",
     "output_type": "stream",
     "text": [
      "   C1  C2  B3  C4  Sum\n",
      "0   1   6   7   7   42\n",
      "1   2   7   9   5   46\n",
      "2   3   5   8   2   36\n",
      "3   5   4   6   8   46\n",
      "4   5   8   5   8   52\n"
     ]
    }
   ],
   "source": [
    "#4.5\n",
    "df['Sum'] = df.sum(axis=1)\n",
    "print(df)"
   ]
  },
  {
   "cell_type": "code",
   "execution_count": 12,
   "metadata": {},
   "outputs": [],
   "source": [
    "#4.6 \n",
    "df = pd.read_csv('hello_sample.csv')"
   ]
  },
  {
   "cell_type": "code",
   "execution_count": 13,
   "metadata": {},
   "outputs": [
    {
     "name": "stdout",
     "output_type": "stream",
     "text": [
      "    Gender  F_Color     B_Month  Weight\n",
      "0     Male    Black       March      77\n",
      "1     Male      Red       March      72\n",
      "2     Male    Black     October      53\n",
      "3   Female     Blue    February      63\n",
      "4     Male    black    October       80\n",
      "5   Female    Black    december      97\n",
      "6     Male   Orange      August      60\n",
      "7   Female      Red   September      59\n",
      "8     Male     Blue        July      60\n",
      "9     Male     Blue         May      58\n",
      "10  Female      Red    October       60\n",
      "11    Male    Black   September      65\n",
      "12    Male    Green    December      85\n",
      "13    Male    Black       April      72\n",
      "14    Male    Green    January       90\n",
      "15    Male   Yellow   November       90\n",
      "16    Male    Black      August      54\n",
      "17    Male    Black     January      82\n",
      "18    Male  Mustard   December       60\n",
      "19  Female    Black    October       76\n",
      "20    Male    Black   February       67\n",
      "21    Male   Yellow       April      74\n",
      "22    Male      Red  September       66\n"
     ]
    }
   ],
   "source": [
    "#4.7\n",
    "print(df)"
   ]
  },
  {
   "cell_type": "code",
   "execution_count": 14,
   "metadata": {},
   "outputs": [
    {
     "name": "stdout",
     "output_type": "stream",
     "text": [
      "   Gender F_Color     B_Month  Weight\n",
      "21   Male  Yellow       April      74\n",
      "22   Male     Red  September       66\n"
     ]
    }
   ],
   "source": [
    "#4.8 \n",
    "print(df.tail(2))"
   ]
  },
  {
   "cell_type": "code",
   "execution_count": 15,
   "metadata": {},
   "outputs": [
    {
     "name": "stdout",
     "output_type": "stream",
     "text": [
      "<class 'pandas.core.frame.DataFrame'>\n",
      "RangeIndex: 23 entries, 0 to 22\n",
      "Data columns (total 4 columns):\n",
      " #   Column   Non-Null Count  Dtype \n",
      "---  ------   --------------  ----- \n",
      " 0   Gender   23 non-null     object\n",
      " 1   F_Color  23 non-null     object\n",
      " 2   B_Month  23 non-null     object\n",
      " 3   Weight   23 non-null     int64 \n",
      "dtypes: int64(1), object(3)\n",
      "memory usage: 868.0+ bytes\n"
     ]
    }
   ],
   "source": [
    "#4.9 \n",
    "df.info()"
   ]
  },
  {
   "cell_type": "code",
   "execution_count": 16,
   "metadata": {},
   "outputs": [
    {
     "name": "stdout",
     "output_type": "stream",
     "text": [
      "(23, 4)\n"
     ]
    }
   ],
   "source": [
    "#4.10 \n",
    "print(df.shape)"
   ]
  },
  {
   "cell_type": "code",
   "execution_count": 17,
   "metadata": {},
   "outputs": [
    {
     "name": "stdout",
     "output_type": "stream",
     "text": [
      "    Gender  F_Color     B_Month  Weight\n",
      "2     Male    Black     October      53\n",
      "16    Male    Black      August      54\n",
      "9     Male     Blue         May      58\n",
      "7   Female      Red   September      59\n",
      "8     Male     Blue        July      60\n",
      "10  Female      Red    October       60\n",
      "18    Male  Mustard   December       60\n",
      "6     Male   Orange      August      60\n",
      "3   Female     Blue    February      63\n",
      "11    Male    Black   September      65\n",
      "22    Male      Red  September       66\n",
      "20    Male    Black   February       67\n",
      "13    Male    Black       April      72\n",
      "1     Male      Red       March      72\n",
      "21    Male   Yellow       April      74\n",
      "19  Female    Black    October       76\n",
      "0     Male    Black       March      77\n",
      "4     Male    black    October       80\n",
      "17    Male    Black     January      82\n",
      "12    Male    Green    December      85\n",
      "14    Male    Green    January       90\n",
      "15    Male   Yellow   November       90\n",
      "5   Female    Black    december      97\n"
     ]
    }
   ],
   "source": [
    "#4.11\n",
    "dfsort = df.sort_values(by='Weight')\n",
    "print(dfsort)"
   ]
  },
  {
   "cell_type": "code",
   "execution_count": 18,
   "metadata": {},
   "outputs": [
    {
     "name": "stdout",
     "output_type": "stream",
     "text": [
      "    Gender  F_Color  B_Month  Weight\n",
      "0    False    False    False   False\n",
      "1    False    False    False   False\n",
      "2    False    False    False   False\n",
      "3    False    False    False   False\n",
      "4    False    False    False   False\n",
      "5    False    False    False   False\n",
      "6    False    False    False   False\n",
      "7    False    False    False   False\n",
      "8    False    False    False   False\n",
      "9    False    False    False   False\n",
      "10   False    False    False   False\n",
      "11   False    False    False   False\n",
      "12   False    False    False   False\n",
      "13   False    False    False   False\n",
      "14   False    False    False   False\n",
      "15   False    False    False   False\n",
      "16   False    False    False   False\n",
      "17   False    False    False   False\n",
      "18   False    False    False   False\n",
      "19   False    False    False   False\n",
      "20   False    False    False   False\n",
      "21   False    False    False   False\n",
      "22   False    False    False   False\n"
     ]
    }
   ],
   "source": [
    "#4.12 \n",
    "missing_values = df.isnull()\n",
    "print(missing_values)"
   ]
  },
  {
   "cell_type": "code",
   "execution_count": 19,
   "metadata": {},
   "outputs": [
    {
     "name": "stdout",
     "output_type": "stream",
     "text": [
      "    Gender  F_Color     B_Month  Weight\n",
      "0     Male    Black       March      77\n",
      "1     Male      Red       March      72\n",
      "2     Male    Black     October      53\n",
      "3   Female     Blue    February      63\n",
      "4     Male    black    October       80\n",
      "5   Female    Black    december      97\n",
      "6     Male   Orange      August      60\n",
      "7   Female      Red   September      59\n",
      "8     Male     Blue        July      60\n",
      "9     Male     Blue         May      58\n",
      "10  Female      Red    October       60\n",
      "11    Male    Black   September      65\n",
      "12    Male    Green    December      85\n",
      "13    Male    Black       April      72\n",
      "14    Male    Green    January       90\n",
      "15    Male   Yellow   November       90\n",
      "16    Male    Black      August      54\n",
      "17    Male    Black     January      82\n",
      "18    Male  Mustard   December       60\n",
      "19  Female    Black    October       76\n",
      "20    Male    Black   February       67\n",
      "21    Male   Yellow       April      74\n",
      "22    Male      Red  September       66\n"
     ]
    }
   ],
   "source": [
    "#4.12.\n",
    "df_no_na = df.dropna()\n",
    "print(df_no_na)"
   ]
  }
 ],
 "metadata": {
  "kernelspec": {
   "display_name": "Python 3",
   "language": "python",
   "name": "python3"
  },
  "language_info": {
   "codemirror_mode": {
    "name": "ipython",
    "version": 3
   },
   "file_extension": ".py",
   "mimetype": "text/x-python",
   "name": "python",
   "nbconvert_exporter": "python",
   "pygments_lexer": "ipython3",
   "version": "3.12.0"
  }
 },
 "nbformat": 4,
 "nbformat_minor": 2
}
